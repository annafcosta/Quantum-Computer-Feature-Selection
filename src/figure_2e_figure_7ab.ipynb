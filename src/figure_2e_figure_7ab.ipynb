{
 "cells": [
  {
   "cell_type": "code",
   "execution_count": 1,
   "metadata": {},
   "outputs": [],
   "source": [
    "import pandas as pd"
   ]
  },
  {
   "cell_type": "code",
   "execution_count": 6,
   "metadata": {},
   "outputs": [
    {
     "data": {
      "text/html": [
       "<div>\n",
       "<style scoped>\n",
       "    .dataframe tbody tr th:only-of-type {\n",
       "        vertical-align: middle;\n",
       "    }\n",
       "\n",
       "    .dataframe tbody tr th {\n",
       "        vertical-align: top;\n",
       "    }\n",
       "\n",
       "    .dataframe thead th {\n",
       "        text-align: right;\n",
       "    }\n",
       "</style>\n",
       "<table border=\"1\" class=\"dataframe\">\n",
       "  <thead>\n",
       "    <tr style=\"text-align: right;\">\n",
       "      <th></th>\n",
       "      <th>interest_rate</th>\n",
       "      <th>income</th>\n",
       "      <th>debt_to_income</th>\n",
       "      <th>balance</th>\n",
       "    </tr>\n",
       "  </thead>\n",
       "  <tbody>\n",
       "    <tr>\n",
       "      <th>392949</th>\n",
       "      <td>10.49</td>\n",
       "      <td>120000.0</td>\n",
       "      <td>24.05</td>\n",
       "      <td>26901.0</td>\n",
       "    </tr>\n",
       "    <tr>\n",
       "      <th>1273506</th>\n",
       "      <td>12.99</td>\n",
       "      <td>21900.0</td>\n",
       "      <td>10.03</td>\n",
       "      <td>347.0</td>\n",
       "    </tr>\n",
       "    <tr>\n",
       "      <th>324024</th>\n",
       "      <td>6.68</td>\n",
       "      <td>83000.0</td>\n",
       "      <td>19.53</td>\n",
       "      <td>12251.0</td>\n",
       "    </tr>\n",
       "    <tr>\n",
       "      <th>2066630</th>\n",
       "      <td>10.91</td>\n",
       "      <td>52000.0</td>\n",
       "      <td>9.16</td>\n",
       "      <td>505.0</td>\n",
       "    </tr>\n",
       "    <tr>\n",
       "      <th>477199</th>\n",
       "      <td>26.30</td>\n",
       "      <td>65000.0</td>\n",
       "      <td>36.26</td>\n",
       "      <td>5744.0</td>\n",
       "    </tr>\n",
       "  </tbody>\n",
       "</table>\n",
       "</div>"
      ],
      "text/plain": [
       "         interest_rate    income  debt_to_income  balance\n",
       "392949           10.49  120000.0           24.05  26901.0\n",
       "1273506          12.99   21900.0           10.03    347.0\n",
       "324024            6.68   83000.0           19.53  12251.0\n",
       "2066630          10.91   52000.0            9.16    505.0\n",
       "477199           26.30   65000.0           36.26   5744.0"
      ]
     },
     "execution_count": 6,
     "metadata": {},
     "output_type": "execute_result"
    }
   ],
   "source": [
    "df = pd.read_csv(\n",
    "    \"../datasets/lending_club.csv\", \n",
    "    usecols=[\"int_rate\", \"annual_inc\", \"dti\", \"avg_cur_bal\"]\n",
    ")\n",
    "\n",
    "df.rename(columns={\n",
    "    \"int_rate\": \"interest_rate\", \n",
    "    \"annual_inc\": \"income\", \n",
    "    \"dti\": \"debt_to_income\", \n",
    "    \"avg_cur_bal\": \"balance\"\n",
    "}, inplace=True)\n",
    "\n",
    "df_sample = df.sample(n=1000, random_state=42)\n",
    "\n",
    "df_sample.head()\n"
   ]
  },
  {
   "cell_type": "code",
   "execution_count": null,
   "metadata": {},
   "outputs": [],
   "source": []
  }
 ],
 "metadata": {
  "kernelspec": {
   "display_name": ".venv",
   "language": "python",
   "name": "python3"
  },
  "language_info": {
   "codemirror_mode": {
    "name": "ipython",
    "version": 3
   },
   "file_extension": ".py",
   "mimetype": "text/x-python",
   "name": "python",
   "nbconvert_exporter": "python",
   "pygments_lexer": "ipython3",
   "version": "3.11.7"
  }
 },
 "nbformat": 4,
 "nbformat_minor": 2
}
