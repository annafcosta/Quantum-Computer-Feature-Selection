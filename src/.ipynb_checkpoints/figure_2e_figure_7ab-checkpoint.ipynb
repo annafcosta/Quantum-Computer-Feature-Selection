{
 "cells": [
  {
   "cell_type": "code",
   "execution_count": 5,
   "metadata": {},
   "outputs": [
    {
     "ename": "ModuleNotFoundError",
     "evalue": "No module named 'pandas'",
     "output_type": "error",
     "traceback": [
      "\u001b[0;31m---------------------------------------------------------------------------\u001b[0m",
      "\u001b[0;31mModuleNotFoundError\u001b[0m                       Traceback (most recent call last)",
      "Cell \u001b[0;32mIn[5], line 1\u001b[0m\n\u001b[0;32m----> 1\u001b[0m \u001b[38;5;28;01mimport\u001b[39;00m \u001b[38;5;21;01mpandas\u001b[39;00m \u001b[38;5;28;01mas\u001b[39;00m \u001b[38;5;21;01mpd\u001b[39;00m\n\u001b[1;32m      2\u001b[0m \u001b[38;5;28;01mfrom\u001b[39;00m \u001b[38;5;21;01msklearn\u001b[39;00m\u001b[38;5;21;01m.\u001b[39;00m\u001b[38;5;21;01mmodel_selection\u001b[39;00m \u001b[38;5;28;01mimport\u001b[39;00m train_test_split\n\u001b[1;32m      3\u001b[0m \u001b[38;5;28;01mfrom\u001b[39;00m \u001b[38;5;21;01msklearn\u001b[39;00m\u001b[38;5;21;01m.\u001b[39;00m\u001b[38;5;21;01mlinear_model\u001b[39;00m \u001b[38;5;28;01mimport\u001b[39;00m LogisticRegression\n",
      "\u001b[0;31mModuleNotFoundError\u001b[0m: No module named 'pandas'"
     ]
    }
   ],
   "source": [
    "import pandas as pd\n",
    "from sklearn.model_selection import train_test_split\n",
    "from sklearn.linear_model import LogisticRegression\n",
    "import seaborn as sns\n",
    "import matplotlib.pyplot as plt"
   ]
  },
  {
   "cell_type": "code",
   "execution_count": null,
   "metadata": {},
   "outputs": [
    {
     "name": "stderr",
     "output_type": "stream",
     "text": [
      "C:\\Users\\msala\\AppData\\Local\\Temp\\ipykernel_17720\\561567605.py:18: FutureWarning: A value is trying to be set on a copy of a DataFrame or Series through chained assignment using an inplace method.\n",
      "The behavior will change in pandas 3.0. This inplace method will never work because the intermediate object on which we are setting values always behaves as a copy.\n",
      "\n",
      "For example, when doing 'df[col].method(value, inplace=True)', try using 'df.method({col: value}, inplace=True)' or df[col] = df[col].method(value) instead, to perform the operation inplace on the original object.\n",
      "\n",
      "\n",
      "  df['credit_default'].replace({\n"
     ]
    },
    {
     "data": {
      "text/html": [
       "<div>\n",
       "<style scoped>\n",
       "    .dataframe tbody tr th:only-of-type {\n",
       "        vertical-align: middle;\n",
       "    }\n",
       "\n",
       "    .dataframe tbody tr th {\n",
       "        vertical-align: top;\n",
       "    }\n",
       "\n",
       "    .dataframe thead th {\n",
       "        text-align: right;\n",
       "    }\n",
       "</style>\n",
       "<table border=\"1\" class=\"dataframe\">\n",
       "  <thead>\n",
       "    <tr style=\"text-align: right;\">\n",
       "      <th></th>\n",
       "      <th>credit_default</th>\n",
       "      <th>credit_card</th>\n",
       "      <th>interest_rate</th>\n",
       "      <th>utilization_rate</th>\n",
       "      <th>income</th>\n",
       "      <th>debt_to_income</th>\n",
       "      <th>FICO_score</th>\n",
       "      <th>days_line</th>\n",
       "      <th>balance</th>\n",
       "    </tr>\n",
       "  </thead>\n",
       "  <tbody>\n",
       "    <tr>\n",
       "      <th>163748</th>\n",
       "      <td>1</td>\n",
       "      <td>17.0</td>\n",
       "      <td>12.29</td>\n",
       "      <td>70.9</td>\n",
       "      <td>68000.0</td>\n",
       "      <td>31.19</td>\n",
       "      <td>680.0</td>\n",
       "      <td>0.0</td>\n",
       "      <td>4117.0</td>\n",
       "    </tr>\n",
       "    <tr>\n",
       "      <th>1910933</th>\n",
       "      <td>1</td>\n",
       "      <td>25.0</td>\n",
       "      <td>20.49</td>\n",
       "      <td>61.0</td>\n",
       "      <td>100024.0</td>\n",
       "      <td>20.68</td>\n",
       "      <td>715.0</td>\n",
       "      <td>0.0</td>\n",
       "      <td>31259.0</td>\n",
       "    </tr>\n",
       "    <tr>\n",
       "      <th>882884</th>\n",
       "      <td>0</td>\n",
       "      <td>29.0</td>\n",
       "      <td>7.07</td>\n",
       "      <td>26.3</td>\n",
       "      <td>70000.0</td>\n",
       "      <td>9.31</td>\n",
       "      <td>735.0</td>\n",
       "      <td>0.0</td>\n",
       "      <td>34691.0</td>\n",
       "    </tr>\n",
       "    <tr>\n",
       "      <th>1640406</th>\n",
       "      <td>0</td>\n",
       "      <td>11.0</td>\n",
       "      <td>7.14</td>\n",
       "      <td>25.0</td>\n",
       "      <td>26400.0</td>\n",
       "      <td>1.59</td>\n",
       "      <td>795.0</td>\n",
       "      <td>NaN</td>\n",
       "      <td>NaN</td>\n",
       "    </tr>\n",
       "    <tr>\n",
       "      <th>1195218</th>\n",
       "      <td>0</td>\n",
       "      <td>32.0</td>\n",
       "      <td>12.49</td>\n",
       "      <td>79.5</td>\n",
       "      <td>41288.0</td>\n",
       "      <td>23.63</td>\n",
       "      <td>670.0</td>\n",
       "      <td>0.0</td>\n",
       "      <td>6862.0</td>\n",
       "    </tr>\n",
       "  </tbody>\n",
       "</table>\n",
       "</div>"
      ],
      "text/plain": [
       "        credit_default  credit_card  interest_rate  utilization_rate  \\\n",
       "163748               1         17.0          12.29              70.9   \n",
       "1910933              1         25.0          20.49              61.0   \n",
       "882884               0         29.0           7.07              26.3   \n",
       "1640406              0         11.0           7.14              25.0   \n",
       "1195218              0         32.0          12.49              79.5   \n",
       "\n",
       "           income  debt_to_income  FICO_score  days_line  balance  \n",
       "163748    68000.0           31.19       680.0        0.0   4117.0  \n",
       "1910933  100024.0           20.68       715.0        0.0  31259.0  \n",
       "882884    70000.0            9.31       735.0        0.0  34691.0  \n",
       "1640406   26400.0            1.59       795.0        NaN      NaN  \n",
       "1195218   41288.0           23.63       670.0        0.0   6862.0  "
      ]
     },
     "execution_count": 37,
     "metadata": {},
     "output_type": "execute_result"
    }
   ],
   "source": [
    "df = pd.read_csv(\n",
    "    \"../datasets/lending_club.csv\", \n",
    "    usecols=[\"loan_status\", \"total_acc\", \"int_rate\", \"revol_util\", \"annual_inc\", \"dti\", \"fico_range_low\", \"num_accts_ever_120_pd\", \"avg_cur_bal\"]\n",
    ")\n",
    "\n",
    "df.rename(columns = {\n",
    "    \"loan_status\": \"credit_default\", \n",
    "    \"total_acc\": \"credit_card\", \n",
    "    \"int_rate\": \"interest_rate\", \n",
    "    \"revol_util\": \"utilization_rate\", \n",
    "    \"annual_inc\": \"income\", \n",
    "    \"dti\": \"debt_to_income\", \n",
    "    \"fico_range_low\": \"FICO_score\", \n",
    "    \"num_accts_ever_120_pd\": \"days_line\", \n",
    "    \"avg_cur_bal\": \"balance\"\n",
    "}, inplace = True)\n",
    "\n",
    "df['credit_default'].replace({\n",
    "    \"Fully Paid\": 0, \n",
    "    \"Current\": 0, \n",
    "    \"Charged Off\": 1\n",
    "}, inplace=True)\n",
    "\n",
    "df_filtered = df[df['credit_default'].isin([0, 1])]\n",
    "\n",
    "num_rows = len(df_filtered)\n",
    "\n",
    "df_sample = df_filtered.sample(n=1000, random_state=42)\n",
    "df_sample = df_sample[['credit_default', 'credit_card', 'interest_rate', 'utilization_rate', 'income', 'debt_to_income', 'FICO_score', 'days_line', 'balance']]\n",
    "\n",
    "df_sample.head()\n"
   ]
  },
  {
   "cell_type": "code",
   "execution_count": 2,
   "metadata": {},
   "outputs": [
    {
     "ename": "NameError",
     "evalue": "name 'df_sample' is not defined",
     "output_type": "error",
     "traceback": [
      "\u001b[0;31m---------------------------------------------------------------------------\u001b[0m",
      "\u001b[0;31mNameError\u001b[0m                                 Traceback (most recent call last)",
      "Cell \u001b[0;32mIn[2], line 1\u001b[0m\n\u001b[0;32m----> 1\u001b[0m X \u001b[38;5;241m=\u001b[39m \u001b[43mdf_sample\u001b[49m[[\u001b[38;5;124m'\u001b[39m\u001b[38;5;124mcredit_card\u001b[39m\u001b[38;5;124m'\u001b[39m, \u001b[38;5;124m'\u001b[39m\u001b[38;5;124minterest_rate\u001b[39m\u001b[38;5;124m'\u001b[39m, \u001b[38;5;124m'\u001b[39m\u001b[38;5;124mutilization_rate\u001b[39m\u001b[38;5;124m'\u001b[39m, \u001b[38;5;124m'\u001b[39m\u001b[38;5;124mincome\u001b[39m\u001b[38;5;124m'\u001b[39m, \u001b[38;5;124m'\u001b[39m\u001b[38;5;124mdebt_to_income\u001b[39m\u001b[38;5;124m'\u001b[39m, \u001b[38;5;124m'\u001b[39m\u001b[38;5;124mFICO_score\u001b[39m\u001b[38;5;124m'\u001b[39m, \u001b[38;5;124m'\u001b[39m\u001b[38;5;124mdays_line\u001b[39m\u001b[38;5;124m'\u001b[39m, \u001b[38;5;124m'\u001b[39m\u001b[38;5;124mbalance\u001b[39m\u001b[38;5;124m'\u001b[39m]]\n\u001b[1;32m      2\u001b[0m y \u001b[38;5;241m=\u001b[39m df_sample[\u001b[38;5;124m'\u001b[39m\u001b[38;5;124mcredit_default\u001b[39m\u001b[38;5;124m'\u001b[39m]\n\u001b[1;32m      4\u001b[0m \u001b[38;5;66;03m# _, X_test, _, y_test = train_test_split(X, y, test_size=0.2, random_state=42)\u001b[39;00m\n\u001b[1;32m      5\u001b[0m \n\u001b[1;32m      6\u001b[0m \u001b[38;5;66;03m# model = LogisticRegression()\u001b[39;00m\n\u001b[1;32m      7\u001b[0m \u001b[38;5;66;03m# model.fit(X, y)\u001b[39;00m\n",
      "\u001b[0;31mNameError\u001b[0m: name 'df_sample' is not defined"
     ]
    }
   ],
   "source": [
    "X = df_sample[['credit_card', 'interest_rate', 'utilization_rate', 'income', 'debt_to_income', 'FICO_score', 'days_line', 'balance']]\n",
    "y = df_sample['credit_default']\n",
    "\n",
    "# _, X_test, _, y_test = train_test_split(X, y, test_size=0.2, random_state=42)\n",
    "\n",
    "# model = LogisticRegression()\n",
    "# model.fit(X, y)\n",
    "\n",
    "corr_matrix = X.corr()\n",
    "\n",
    "target_corr = df_sample.corr()['credit_default']"
   ]
  },
  {
   "cell_type": "code",
   "execution_count": 3,
   "metadata": {},
   "outputs": [
    {
     "ename": "NameError",
     "evalue": "name 'plt' is not defined",
     "output_type": "error",
     "traceback": [
      "\u001b[0;31m---------------------------------------------------------------------------\u001b[0m",
      "\u001b[0;31mNameError\u001b[0m                                 Traceback (most recent call last)",
      "Cell \u001b[0;32mIn[3], line 1\u001b[0m\n\u001b[0;32m----> 1\u001b[0m \u001b[43mplt\u001b[49m\u001b[38;5;241m.\u001b[39mfigure(figsize\u001b[38;5;241m=\u001b[39m(\u001b[38;5;241m10\u001b[39m, \u001b[38;5;241m7\u001b[39m))\n\u001b[1;32m      3\u001b[0m ax1 \u001b[38;5;241m=\u001b[39m plt\u001b[38;5;241m.\u001b[39msubplot(\u001b[38;5;241m1\u001b[39m, \u001b[38;5;241m8\u001b[39m, (\u001b[38;5;241m4\u001b[39m, \u001b[38;5;241m8\u001b[39m))\n\u001b[1;32m      4\u001b[0m sns\u001b[38;5;241m.\u001b[39mheatmap(corr_matrix, annot\u001b[38;5;241m=\u001b[39m\u001b[38;5;28;01mTrue\u001b[39;00m, cmap\u001b[38;5;241m=\u001b[39m\u001b[38;5;124m'\u001b[39m\u001b[38;5;124mseismic\u001b[39m\u001b[38;5;124m'\u001b[39m, cbar\u001b[38;5;241m=\u001b[39m\u001b[38;5;28;01mFalse\u001b[39;00m, ax\u001b[38;5;241m=\u001b[39max1, center\u001b[38;5;241m=\u001b[39m\u001b[38;5;241m0\u001b[39m)\n",
      "\u001b[0;31mNameError\u001b[0m: name 'plt' is not defined"
     ]
    }
   ],
   "source": [
    "plt.figure(figsize=(10, 7))\n",
    "\n",
    "ax1 = plt.subplot(1, 8, (4, 8))\n",
    "sns.heatmap(corr_matrix, annot=True, cmap='seismic', cbar=False, ax=ax1, center=0)\n",
    "ax1.set_title('Correlation Matrix (Features)', fontsize=12)\n",
    "\n",
    "ax2 = plt.subplot(1, 8, 1)\n",
    "sns.heatmap(target_corr.drop('credit_default').to_frame(), annot=True, cmap='seismic', cbar=False, ax=ax2, center=0)\n",
    "ax2.set_title('Correlation with Target', fontsize=12)\n",
    "\n",
    "plt.tight_layout()\n",
    "\n",
    "plt.show()"
   ]
  },
  {
   "cell_type": "code",
   "execution_count": null,
   "metadata": {},
   "outputs": [],
   "source": [
    "def sumFeatureTarget():\n",
    "    sum = 0\n",
    "    for i in range(8):\n",
    "        \n",
    "\n",
    "    return sum\n",
    "\n",
    "        \n",
    "        \n",
    "\n",
    "def sumFeatureFeature():\n",
    "    return 1\n",
    "\n",
    "x_axis = []\n",
    "y_axis = []\n",
    "\n",
    "for phi in range(0, 1, 0.1):\n",
    "    h = -((phi * sumFeatureTarget()) - ((1 - phi) * sumFeatureFeature()))\n",
    "\n",
    "    \n",
    "    \n",
    "    x_axis.append()\n",
    "    y_axis.append(phi)"
   ]
  }
 ],
 "metadata": {
  "kernelspec": {
   "display_name": ".venv",
   "language": "python",
   "name": "python3"
  },
  "language_info": {
   "codemirror_mode": {
    "name": "ipython",
    "version": 3
   },
   "file_extension": ".py",
   "mimetype": "text/x-python",
   "name": "python",
   "nbconvert_exporter": "python",
   "pygments_lexer": "ipython3",
   "version": "3.10.12"
  }
 },
 "nbformat": 4,
 "nbformat_minor": 2
}
